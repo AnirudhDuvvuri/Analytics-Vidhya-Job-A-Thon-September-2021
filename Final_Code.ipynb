{
 "cells": [
  {
   "cell_type": "code",
   "execution_count": 1,
   "metadata": {},
   "outputs": [],
   "source": [
    "#load required basic packages\n",
    "import pandas as pd\n",
    "import numpy as np\n",
    "import seaborn as sns\n",
    "import matplotlib.pyplot as plt\n",
    "%matplotlib inline\n",
    "import warnings\n",
    "warnings.filterwarnings(\"ignore\")"
   ]
  },
  {
   "cell_type": "code",
   "execution_count": 2,
   "metadata": {},
   "outputs": [],
   "source": [
    "#load train and test datasets\n",
    "train = pd.read_csv(\"train.csv\")\n",
    "test = pd.read_csv(\"TEST_FINAL.csv\")"
   ]
  },
  {
   "cell_type": "code",
   "execution_count": 3,
   "metadata": {},
   "outputs": [],
   "source": [
    "#Create a copy of train and test datasets\n",
    "train_original=train.copy()\n",
    "test_original=test.copy()"
   ]
  },
  {
   "cell_type": "code",
   "execution_count": 4,
   "metadata": {},
   "outputs": [
    {
     "data": {
      "text/plain": [
       "Index(['ID', 'Store_id', 'Store_Type', 'Location_Type', 'Region_Code', 'Date',\n",
       "       'Holiday', 'Discount', '#Order', 'Sales'],\n",
       "      dtype='object')"
      ]
     },
     "execution_count": 4,
     "metadata": {},
     "output_type": "execute_result"
    }
   ],
   "source": [
    "#Check the columns in train file\n",
    "train.columns"
   ]
  },
  {
   "cell_type": "code",
   "execution_count": 5,
   "metadata": {},
   "outputs": [
    {
     "data": {
      "text/plain": [
       "ID                object\n",
       "Store_id           int64\n",
       "Store_Type        object\n",
       "Location_Type     object\n",
       "Region_Code       object\n",
       "Date              object\n",
       "Holiday            int64\n",
       "Discount          object\n",
       "#Order             int64\n",
       "Sales            float64\n",
       "dtype: object"
      ]
     },
     "execution_count": 5,
     "metadata": {},
     "output_type": "execute_result"
    }
   ],
   "source": [
    "#Check datatypes in train file\n",
    "train.dtypes"
   ]
  },
  {
   "cell_type": "code",
   "execution_count": 6,
   "metadata": {},
   "outputs": [
    {
     "data": {
      "text/plain": [
       "Index(['ID', 'Store_id', 'Store_Type', 'Location_Type', 'Region_Code', 'Date',\n",
       "       'Holiday', 'Discount'],\n",
       "      dtype='object')"
      ]
     },
     "execution_count": 6,
     "metadata": {},
     "output_type": "execute_result"
    }
   ],
   "source": [
    "#Check columns in test file\n",
    "test.columns"
   ]
  },
  {
   "cell_type": "code",
   "execution_count": 7,
   "metadata": {},
   "outputs": [
    {
     "data": {
      "text/plain": [
       "ID               object\n",
       "Store_id          int64\n",
       "Store_Type       object\n",
       "Location_Type    object\n",
       "Region_Code      object\n",
       "Date             object\n",
       "Holiday           int64\n",
       "Discount         object\n",
       "dtype: object"
      ]
     },
     "execution_count": 7,
     "metadata": {},
     "output_type": "execute_result"
    }
   ],
   "source": [
    "#Check datatypes in test file\n",
    "test.dtypes"
   ]
  },
  {
   "cell_type": "code",
   "execution_count": 8,
   "metadata": {},
   "outputs": [
    {
     "data": {
      "text/plain": [
       "((188340, 10), (22265, 8))"
      ]
     },
     "execution_count": 8,
     "metadata": {},
     "output_type": "execute_result"
    }
   ],
   "source": [
    "#Check shape of the dataset\n",
    "train.shape, test.shape"
   ]
  },
  {
   "cell_type": "code",
   "execution_count": 9,
   "metadata": {},
   "outputs": [],
   "source": [
    "#Change Date datatype to datetime format\n",
    "train['Date']=pd.to_datetime(train['Date'])\n",
    "test['Date']=pd.to_datetime(test['Date'])"
   ]
  },
  {
   "cell_type": "code",
   "execution_count": 10,
   "metadata": {},
   "outputs": [],
   "source": [
    "#Add month and day of the week columns in train file for historical trends\n",
    "train['Month']=train['Date'].dt.month\n",
    "train['Dayofweek']=train['Date'].dt.dayofweek"
   ]
  },
  {
   "cell_type": "code",
   "execution_count": 11,
   "metadata": {},
   "outputs": [],
   "source": [
    "#Add month and day of the week columns in test file for historical trends\n",
    "test['Month']=test['Date'].dt.month\n",
    "test['Dayofweek']=test['Date'].dt.dayofweek"
   ]
  },
  {
   "cell_type": "code",
   "execution_count": 12,
   "metadata": {},
   "outputs": [
    {
     "data": {
      "text/plain": [
       "Index(['ID', 'Store_id', 'Store_Type', 'Location_Type', 'Region_Code', 'Date',\n",
       "       'Holiday', 'Discount', '#Order', 'Sales', 'Month', 'Dayofweek'],\n",
       "      dtype='object')"
      ]
     },
     "execution_count": 12,
     "metadata": {},
     "output_type": "execute_result"
    }
   ],
   "source": [
    "train.columns"
   ]
  },
  {
   "cell_type": "code",
   "execution_count": 13,
   "metadata": {},
   "outputs": [
    {
     "data": {
      "text/plain": [
       "Index(['ID', 'Store_id', 'Store_Type', 'Location_Type', 'Region_Code', 'Date',\n",
       "       'Holiday', 'Discount', 'Month', 'Dayofweek'],\n",
       "      dtype='object')"
      ]
     },
     "execution_count": 13,
     "metadata": {},
     "output_type": "execute_result"
    }
   ],
   "source": [
    "test.columns"
   ]
  },
  {
   "cell_type": "markdown",
   "metadata": {},
   "source": [
    "In train and test file Date is not required anymore. So we can drop date. \n",
    "We can drop #Orders also since it is not present in test file. \n",
    "ID column in both files is unique for each line. So we can drop ID."
   ]
  },
  {
   "cell_type": "code",
   "execution_count": 14,
   "metadata": {},
   "outputs": [],
   "source": [
    "train=train.drop(['ID','#Order','Date'],axis=1)\n",
    "test=test.drop(['ID','Date'],axis=1)"
   ]
  },
  {
   "cell_type": "markdown",
   "metadata": {},
   "source": [
    "The target variable 'Sales' is numerical feature. So use probability density plots to check distribution"
   ]
  },
  {
   "cell_type": "code",
   "execution_count": 15,
   "metadata": {},
   "outputs": [
    {
     "data": {
      "text/plain": [
       "<AxesSubplot:>"
      ]
     },
     "execution_count": 15,
     "metadata": {},
     "output_type": "execute_result"
    },
    {
     "data": {
      "image/png": "[encoded data removed]",
      "text/plain": [
       "<Figure size 1152x360 with 2 Axes>"
      ]
     },
     "metadata": {
      "needs_background": "light"
     },
     "output_type": "display_data"
    }
   ],
   "source": [
    "#Distribution of sales\n",
    "plt.figure(1)\n",
    "plt.subplot(121)\n",
    "sns.distplot(train['Sales']);\n",
    "plt.subplot(122)\n",
    "train['Sales'].plot.box(figsize=(16,5))"
   ]
  },
  {
   "cell_type": "markdown",
   "metadata": {},
   "source": [
    "DATA VISUALISATION\n",
    "Categorial Features: Holiday, Discount\n",
    "Ordinal Features: Store_id, Store_Type, Location_Type, Region_Code, Month, Dayofweek"
   ]
  },
  {
   "cell_type": "code",
   "execution_count": 16,
   "metadata": {},
   "outputs": [
    {
     "name": "stdout",
     "output_type": "stream",
     "text": [
      "   Holiday         Sales\n",
      "0        0  43897.288998\n",
      "1        1  35451.878930\n",
      "  Discount         Sales\n",
      "0       No  37403.679678\n",
      "1      Yes  49426.497620\n"
     ]
    },
    {
     "data": {
      "text/plain": [
       "<AxesSubplot:xlabel='Discount', ylabel='Sales'>"
      ]
     },
     "execution_count": 16,
     "metadata": {},
     "output_type": "execute_result"
    },
    {
     "data": {
      "image/png": "[encoded data removed]",
      "text/plain": [
       "<Figure size 842.4x595.44 with 2 Axes>"
      ]
     },
     "metadata": {},
     "output_type": "display_data"
    }
   ],
   "source": [
    "#Visualize Categorical Features\n",
    "\n",
    "sns.set(rc={'figure.figsize':(11.7,8.27)})\n",
    "  \n",
    "# groupby holiday and check mean sales\n",
    "df1 = train.groupby(['Holiday']).mean()['Sales']\n",
    "df1 = df1.reset_index()\n",
    "print(df1)\n",
    "\n",
    "# groupby Discount and check mean sales\n",
    "df2 = train.groupby(['Discount']).mean()['Sales']\n",
    "df2 = df2.reset_index()\n",
    "print(df2)\n",
    "\n",
    "plt.figure(1)\n",
    "plt.subplot(121)\n",
    "sns.barplot(x=\"Holiday\",y=\"Sales\",data=df1);\n",
    "plt.subplot(122)\n",
    "sns.barplot(x=\"Discount\",y=\"Sales\",data=df2)"
   ]
  },
  {
   "cell_type": "markdown",
   "metadata": {},
   "source": [
    "Average sale is higher on a Non-Holiday than a holiday which is unexpected. Coming to discount, sales are higher when the store is offering a discount."
   ]
  },
  {
   "cell_type": "code",
   "execution_count": 17,
   "metadata": {},
   "outputs": [
    {
     "name": "stdout",
     "output_type": "stream",
     "text": [
      "     Store_id         Sales\n",
      "0           1  34698.442326\n",
      "1           2  46333.863198\n",
      "2           3  62479.448953\n",
      "3           4  38482.236744\n",
      "4           5  43452.710872\n",
      "..        ...           ...\n",
      "360       361  33521.863779\n",
      "361       362  34065.920523\n",
      "362       363  41357.393779\n",
      "363       364  30277.224651\n",
      "364       365  30750.429012\n",
      "\n",
      "[365 rows x 2 columns]\n",
      "  Store_Type         Sales\n",
      "0         S1  37676.511694\n",
      "1         S2  27530.828222\n",
      "2         S3  47063.068209\n",
      "3         S4  59945.685926\n",
      "  Location_Type         Sales\n",
      "0            L1  41453.597889\n",
      "1            L2  59231.480373\n",
      "2            L3  33072.257756\n",
      "3            L4  29067.414313\n",
      "4            L5  25187.787261\n",
      "  Region_Code         Sales\n",
      "0          R1  46765.488405\n",
      "1          R2  40054.847344\n",
      "2          R3  42144.517063\n",
      "3          R4  39743.434249\n",
      "    Month         Sales\n",
      "0       1  44979.147732\n",
      "1       2  40424.350645\n",
      "2       3  40979.577286\n",
      "3       4  40773.681352\n",
      "4       5  48115.830407\n",
      "5       6  44705.726389\n",
      "6       7  46585.406232\n",
      "7       8  40020.368869\n",
      "8       9  41123.184822\n",
      "9      10  38988.407398\n",
      "10     11  38160.962496\n",
      "11     12  46477.110199\n",
      "   Dayofweek         Sales\n",
      "0          0  42291.175854\n",
      "1          1  40802.966220\n",
      "2          2  40827.205395\n",
      "3          3  40231.985963\n",
      "4          4  39701.020376\n",
      "5          5  46729.798143\n",
      "6          6  49044.051947\n"
     ]
    },
    {
     "data": {
      "text/plain": [
       "<AxesSubplot:xlabel='Dayofweek', ylabel='Sales'>"
      ]
     },
     "execution_count": 17,
     "metadata": {},
     "output_type": "execute_result"
    },
    {
     "data": {
      "image/png": "[encoded data removed]",
      "text/plain": [
       "<Figure size 720x360 with 6 Axes>"
      ]
     },
     "metadata": {},
     "output_type": "display_data"
    }
   ],
   "source": [
    "#Visualize Ordinal Features\n",
    "fig, axes = plt.subplots(nrows=3, ncols=2, figsize=(10,5))\n",
    "fig.tight_layout()\n",
    "  \n",
    "# groupby Store_id and check mean sales\n",
    "df1 = train.groupby(['Store_id']).mean()['Sales']\n",
    "df1 = df1.reset_index()\n",
    "print(df1)\n",
    "\n",
    "# groupby Store_Type and check mean sales\n",
    "df2 = train.groupby(['Store_Type']).mean()['Sales']\n",
    "df2 = df2.reset_index()\n",
    "print(df2)\n",
    "\n",
    "# groupby Location_Type and check mean sales\n",
    "df3 = train.groupby(['Location_Type']).mean()['Sales']\n",
    "df3 = df3.reset_index()\n",
    "print(df3)\n",
    "\n",
    "# groupby Region_Code and check mean sales\n",
    "df4 = train.groupby(['Region_Code']).mean()['Sales']\n",
    "df4 = df4.reset_index()\n",
    "print(df4)\n",
    "\n",
    "# groupby Month and check mean sales\n",
    "df5 = train.groupby(['Month']).mean()['Sales']\n",
    "df5 = df5.reset_index()\n",
    "print(df5)\n",
    "\n",
    "# groupby Dayofweek and check mean sales\n",
    "df6 = train.groupby(['Dayofweek']).mean()['Sales']\n",
    "df6 = df6.reset_index()\n",
    "print(df6)\n",
    "\n",
    "\n",
    "plt.figure(1)\n",
    "plt.subplot(321)\n",
    "sns.lineplot(x=\"Store_id\",y=\"Sales\",data=df1);\n",
    "plt.subplot(322)\n",
    "sns.barplot(x=\"Store_Type\",y=\"Sales\",data=df2);\n",
    "plt.subplot(323)\n",
    "sns.barplot(x=\"Location_Type\",y=\"Sales\",data=df3);\n",
    "plt.subplot(324)\n",
    "sns.barplot(x=\"Region_Code\",y=\"Sales\",data=df4);\n",
    "plt.subplot(325)\n",
    "sns.barplot(x=\"Month\",y=\"Sales\",data=df5);\n",
    "plt.subplot(326)\n",
    "sns.barplot(x=\"Dayofweek\",y=\"Sales\",data=df6)"
   ]
  },
  {
   "cell_type": "markdown",
   "metadata": {},
   "source": [
    "#Above factors show clear indication on dependencies of each factor on number of sales"
   ]
  },
  {
   "cell_type": "code",
   "execution_count": 18,
   "metadata": {},
   "outputs": [],
   "source": [
    "#For converting to numerical, we can change Yes or No in discount to 1 and 0 respectively\n",
    "train['Discount'].replace('No',0,inplace=True)\n",
    "train['Discount'].replace('Yes',1,inplace=True)\n",
    "test['Discount'].replace('No',0,inplace=True)\n",
    "test['Discount'].replace('Yes',1,inplace=True)"
   ]
  },
  {
   "cell_type": "markdown",
   "metadata": {},
   "source": [
    "Check correlation between the variables using heatmap"
   ]
  },
  {
   "cell_type": "code",
   "execution_count": 19,
   "metadata": {},
   "outputs": [
    {
     "data": {
      "text/plain": [
       "<AxesSubplot:>"
      ]
     },
     "execution_count": 19,
     "metadata": {},
     "output_type": "execute_result"
    },
    {
     "data": {
      "image/png": "[encoded data removed]",
      "text/plain": [
       "<Figure size 648x432 with 2 Axes>"
      ]
     },
     "metadata": {},
     "output_type": "display_data"
    }
   ],
   "source": [
    "matrix=train.corr() \n",
    "f,ax=plt.subplots(figsize=(9,6))\n",
    "sns.heatmap(matrix, vmax=0.8, square='True', cmap=\"BuPu\")"
   ]
  },
  {
   "cell_type": "markdown",
   "metadata": {},
   "source": [
    "Missing value imputation and outliner treatment"
   ]
  },
  {
   "cell_type": "code",
   "execution_count": 20,
   "metadata": {},
   "outputs": [
    {
     "data": {
      "text/plain": [
       "Store_id         0\n",
       "Store_Type       0\n",
       "Location_Type    0\n",
       "Region_Code      0\n",
       "Holiday          0\n",
       "Discount         0\n",
       "Sales            0\n",
       "Month            0\n",
       "Dayofweek        0\n",
       "dtype: int64"
      ]
     },
     "execution_count": 20,
     "metadata": {},
     "output_type": "execute_result"
    }
   ],
   "source": [
    "#check for missing values in train file\n",
    "train.isnull().sum()"
   ]
  },
  {
   "cell_type": "code",
   "execution_count": 21,
   "metadata": {},
   "outputs": [
    {
     "data": {
      "text/plain": [
       "Store_id         0\n",
       "Store_Type       0\n",
       "Location_Type    0\n",
       "Region_Code      0\n",
       "Holiday          0\n",
       "Discount         0\n",
       "Month            0\n",
       "Dayofweek        0\n",
       "dtype: int64"
      ]
     },
     "execution_count": 21,
     "metadata": {},
     "output_type": "execute_result"
    }
   ],
   "source": [
    "#check for missing values in test file\n",
    "test.isnull().sum()"
   ]
  },
  {
   "cell_type": "markdown",
   "metadata": {},
   "source": [
    "Now, treat the outliners in Sales using log. Then check for any infinite or missing values"
   ]
  },
  {
   "cell_type": "code",
   "execution_count": 22,
   "metadata": {},
   "outputs": [],
   "source": [
    "#Use log function on Sales column\n",
    "train['log_sales'] = np.log(train['Sales'])"
   ]
  },
  {
   "cell_type": "code",
   "execution_count": 23,
   "metadata": {},
   "outputs": [
    {
     "data": {
      "text/plain": [
       "-inf"
      ]
     },
     "execution_count": 23,
     "metadata": {},
     "output_type": "execute_result"
    }
   ],
   "source": [
    "#Check for lowest value\n",
    "train['log_sales'].min()"
   ]
  },
  {
   "cell_type": "code",
   "execution_count": 24,
   "metadata": {},
   "outputs": [
    {
     "data": {
      "text/plain": [
       "12.41801368233639"
      ]
     },
     "execution_count": 24,
     "metadata": {},
     "output_type": "execute_result"
    }
   ],
   "source": [
    "#Check for highest value\n",
    "train['log_sales'].max()"
   ]
  },
  {
   "cell_type": "code",
   "execution_count": 25,
   "metadata": {},
   "outputs": [
    {
     "data": {
      "text/plain": [
       "0"
      ]
     },
     "execution_count": 25,
     "metadata": {},
     "output_type": "execute_result"
    }
   ],
   "source": [
    "#Check for null values\n",
    "train['log_sales'].isnull().sum()"
   ]
  },
  {
   "cell_type": "code",
   "execution_count": 26,
   "metadata": {},
   "outputs": [],
   "source": [
    "#There in -inf in 'log_sales'. Impute the negative infinity value with zero\n",
    "train.replace(to_replace = -np.inf, value =0,inplace=True)"
   ]
  },
  {
   "cell_type": "code",
   "execution_count": 27,
   "metadata": {},
   "outputs": [],
   "source": [
    "#Now drop sales from train file\n",
    "train=train.drop('Sales',1)"
   ]
  },
  {
   "cell_type": "markdown",
   "metadata": {},
   "source": [
    "Since sklearn requires target variable in seperate dataset, create a new dataset y with target variable"
   ]
  },
  {
   "cell_type": "code",
   "execution_count": 28,
   "metadata": {},
   "outputs": [],
   "source": [
    "#Drop target variable and create new dataset y\n",
    "X=train.drop('log_sales',1)\n",
    "y=train.log_sales"
   ]
  },
  {
   "cell_type": "markdown",
   "metadata": {},
   "source": [
    "use pd.get_dummies to convert categorial variables into dummy variables i.e series of 0 and 1"
   ]
  },
  {
   "cell_type": "code",
   "execution_count": 29,
   "metadata": {},
   "outputs": [],
   "source": [
    "#Convert into dummy variables\n",
    "X=pd.get_dummies(X)\n",
    "train=pd.get_dummies(train)\n",
    "test=pd.get_dummies(test)"
   ]
  },
  {
   "cell_type": "markdown",
   "metadata": {},
   "source": [
    "Modelling"
   ]
  },
  {
   "cell_type": "code",
   "execution_count": 30,
   "metadata": {},
   "outputs": [
    {
     "name": "stdout",
     "output_type": "stream",
     "text": [
      "0.3342939910338557\n"
     ]
    }
   ],
   "source": [
    "#Train model using LinearRegression\n",
    "\n",
    "from sklearn.model_selection import train_test_split\n",
    "X_train, X_val, y_train, y_val = train_test_split(X, y, test_size=0.20, random_state=7)\n",
    "from sklearn import linear_model\n",
    "reg = linear_model.LinearRegression()\n",
    "reg.fit(X_train , y_train)\n",
    "pred = reg.predict(X_val)\n",
    "\n",
    "from sklearn.metrics import mean_squared_error\n",
    "rmse = np.sqrt(mean_squared_error(y_val,pred))\n",
    "print(rmse)"
   ]
  },
  {
   "cell_type": "code",
   "execution_count": 31,
   "metadata": {},
   "outputs": [
    {
     "name": "stdout",
     "output_type": "stream",
     "text": [
      "0.3342939910338557\n"
     ]
    }
   ],
   "source": [
    "#Train model using Linear_model.Ridge\n",
    "\n",
    "from sklearn.model_selection import GridSearchCV\n",
    "model = linear_model.Ridge(random_state = 1)\n",
    "param_grid = {\"alpha\" : [0.01 , 0.2 , 0.250 , 0.3] }\n",
    "grid = GridSearchCV( model , param_grid , cv = 7 , scoring = \"neg_mean_squared_error\")\n",
    "grid.fit(X,y)\n",
    "\n",
    "grid.best_score_rmse = np.sqrt(-grid.best_score_)\n",
    "print(rmse)"
   ]
  },
  {
   "cell_type": "code",
   "execution_count": 32,
   "metadata": {},
   "outputs": [
    {
     "data": {
      "text/plain": [
       "{'alpha': 0.3}"
      ]
     },
     "execution_count": 32,
     "metadata": {},
     "output_type": "execute_result"
    }
   ],
   "source": [
    "#set best parameters \n",
    "grid.best_params_"
   ]
  },
  {
   "cell_type": "code",
   "execution_count": 33,
   "metadata": {},
   "outputs": [
    {
     "name": "stdout",
     "output_type": "stream",
     "text": [
      "0.33391753987468276\n"
     ]
    }
   ],
   "source": [
    "#Train model using Linear_model.Lasso\n",
    "\n",
    "model = linear_model.Lasso(random_state = 1)\n",
    "param_grid = {\"alpha\" : [0.001 , 0.0001] ,\"max_iter\" : [600 , 700]}\n",
    "grid = GridSearchCV( model , param_grid , cv = 7 , scoring = \"neg_mean_squared_error\")\n",
    "grid.fit(X,y)\n",
    "\n",
    "rmse = np.sqrt(-grid.best_score_)\n",
    "print(rmse)"
   ]
  },
  {
   "cell_type": "code",
   "execution_count": 34,
   "metadata": {},
   "outputs": [
    {
     "data": {
      "text/plain": [
       "{'alpha': 0.0001, 'max_iter': 600}"
      ]
     },
     "execution_count": 34,
     "metadata": {},
     "output_type": "execute_result"
    }
   ],
   "source": [
    "#Set best parameters\n",
    "grid.best_params_"
   ]
  },
  {
   "cell_type": "code",
   "execution_count": 35,
   "metadata": {},
   "outputs": [
    {
     "name": "stdout",
     "output_type": "stream",
     "text": [
      "0.34803601783455546\n"
     ]
    }
   ],
   "source": [
    "#Train model using DecisionTreeRegressor\n",
    "\n",
    "from sklearn import tree\n",
    "clf = tree.DecisionTreeRegressor()\n",
    "clf.fit(X_train , y_train)\n",
    "pred = clf.predict(X_val)\n",
    "\n",
    "rmse = np.sqrt(mean_squared_error(y_val,pred))\n",
    "print(rmse)"
   ]
  },
  {
   "cell_type": "code",
   "execution_count": 36,
   "metadata": {},
   "outputs": [
    {
     "data": {
      "text/plain": [
       "0.28126866253896565"
      ]
     },
     "execution_count": 36,
     "metadata": {},
     "output_type": "execute_result"
    }
   ],
   "source": [
    "#Train model using RandomForestRegressor\n",
    "\n",
    "from sklearn.ensemble import RandomForestRegressor\n",
    "rf = RandomForestRegressor(n_estimators=100,max_depth=15)\n",
    "rf.fit(X_train,y_train)\n",
    "rf_pred = rf.predict(X_val)\n",
    "rmse_rf = np.sqrt(mean_squared_error(y_val,rf_pred))\n",
    "rmse_rf"
   ]
  },
  {
   "cell_type": "code",
   "execution_count": 37,
   "metadata": {},
   "outputs": [
    {
     "data": {
      "text/plain": [
       "0.3404683471472117"
      ]
     },
     "execution_count": 37,
     "metadata": {},
     "output_type": "execute_result"
    }
   ],
   "source": [
    "#Train model using XGBRegressor\n",
    "\n",
    "from xgboost import XGBRegressor\n",
    "xgb = XGBRegressor(max_depth=15,n_jobs=4,n_estimators=120,subsample=0.7)\n",
    "xgb.fit(X_train,y_train)\n",
    "xg_pred = xgb.predict(X_val)\n",
    "\n",
    "rmse_xgb = np.sqrt(mean_squared_error(y_val,xg_pred))\n",
    "rmse_xgb"
   ]
  },
  {
   "cell_type": "markdown",
   "metadata": {},
   "source": [
    "The best score was from RandomForestRegressor. So deploy RandomForestRegressor for final prediction."
   ]
  },
  {
   "cell_type": "code",
   "execution_count": 38,
   "metadata": {},
   "outputs": [],
   "source": [
    "#Deploy model on test file\n",
    "pred_test = rf.predict(test)"
   ]
  },
  {
   "cell_type": "code",
   "execution_count": 39,
   "metadata": {},
   "outputs": [],
   "source": [
    "#Read Sample data file\n",
    "submission=pd.read_csv(\"SAMPLE.csv\")"
   ]
  },
  {
   "cell_type": "code",
   "execution_count": 40,
   "metadata": {},
   "outputs": [],
   "source": [
    "#Set columns\n",
    "submission['Sales']=pred_test\n",
    "submission['ID']=test_original['ID']"
   ]
  },
  {
   "cell_type": "markdown",
   "metadata": {},
   "source": [
    "The sales column has been converted to logarthimic data. Use np.exp function to revert back the data"
   ]
  },
  {
   "cell_type": "code",
   "execution_count": 41,
   "metadata": {},
   "outputs": [],
   "source": [
    "#Use np.exp on logarthmic data\n",
    "submission['Sales']=np.exp(submission['Sales'])"
   ]
  },
  {
   "cell_type": "code",
   "execution_count": 42,
   "metadata": {},
   "outputs": [],
   "source": [
    "#Export final dataset as Final_Submission.csv\n",
    "pd.DataFrame(submission,columns=['ID','Sales']).to_csv('Final_Submission.csv')"
   ]
  }
 ],
 "metadata": {
  "kernelspec": {
   "display_name": "Python 3",
   "language": "python",
   "name": "python3"
  },
  "language_info": {
   "codemirror_mode": {
    "name": "ipython",
    "version": 3
   },
   "file_extension": ".py",
   "mimetype": "text/x-python",
   "name": "python",
   "nbconvert_exporter": "python",
   "pygments_lexer": "ipython3",
   "version": "3.8.5"
  }
 },
 "nbformat": 4,
 "nbformat_minor": 4
}
